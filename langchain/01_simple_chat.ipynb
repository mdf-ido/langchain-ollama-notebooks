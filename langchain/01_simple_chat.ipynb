{
 "cells": [
  {
   "cell_type": "markdown",
   "metadata": {},
   "source": [
    "# Simple Chat with LangChain + Ollama\n",
    "\n",
    "This notebook demonstrates basic chat functionality using LangChain and Ollama.\n",
    "\n",
    "I deleted the jupyterhub default network policies to allow traffic to go out. \n",
    "\n",
    "**What you'll learn:**\n",
    "- Basic LangChain setup with Ollama\n",
    "- Simple chat interactions\n",
    "- Message handling\n",
    "- Basic conversation flow"
   ]
  },
  {
   "cell_type": "code",
   "execution_count": null,
   "metadata": {},
   "outputs": [
    {
     "ename": "",
     "evalue": "",
     "output_type": "error",
     "traceback": [
      "\u001b[1;31mRunning cells with 'Python 3.12.7' requires the ipykernel package.\n",
      "\u001b[1;31m<a href='command:jupyter.createPythonEnvAndSelectController'>Create a Python Environment</a> with the required packages.\n",
      "\u001b[1;31mOr install 'ipykernel' using the command: 'c:/Users/moise/AppData/Local/Programs/Python/Python312/python.exe -m pip install ipykernel -U --user --force-reinstall'"
     ]
    }
   ],
   "source": [
    "# Import required libraries\n",
    "import sys\n",
    "sys.path.append('..')\n",
    "\n",
    "from langchain_ollama import ChatOllama\n",
    "from langchain.schema import HumanMessage, SystemMessage\n",
    "from config import config\n",
    "\n",
    "print(f\"Configuration loaded:\")\n",
    "print(f\"  Ollama URL: {config.ollama_base_url}\")\n",
    "print(f\"  Model: {config.model_name}\")"
   ]
  },
  {
   "cell_type": "code",
   "execution_count": null,
   "metadata": {},
   "outputs": [],
   "source": [
    "# Initialize the chat model\n",
    "llm = ChatOllama(\n",
    "    base_url=config.ollama_base_url,\n",
    "    model=config.model_name,\n",
    "    temperature=config.temperature,\n",
    "    request_timeout=config.request_timeout,\n",
    "    timeout=config.connection_timeout\n",
    ")\n",
    "\n",
    "print(\"✅ Chat model initialized successfully!\")"
   ]
  },
  {
   "cell_type": "code",
   "execution_count": null,
   "metadata": {},
   "outputs": [],
   "source": [
    "# Simple chat test\n",
    "try:\n",
    "    print(\"Sending test message...\")\n",
    "    response = llm.invoke(\"Hello! Please respond with a brief greeting.\")\n",
    "    print(f\"Response: {response.content}\")\n",
    "    print(\"✅ Chat is working!\")\n",
    "except Exception as e:\n",
    "    print(f\"❌ Error: {e}\")\n",
    "    print(\"Check if Ollama server is running and accessible.\")"
   ]
  },
  {
   "cell_type": "code",
   "execution_count": null,
   "metadata": {},
   "outputs": [],
   "source": [
    "# Conversation with system message\n",
    "system_message = SystemMessage(content=\"You are a helpful programming assistant.\")\n",
    "user_message = HumanMessage(content=\"What is Python used for?\")\n",
    "\n",
    "try:\n",
    "    messages = [system_message, user_message]\n",
    "    response = llm.invoke(messages)\n",
    "    print(f\"Question: {user_message.content}\")\n",
    "    print(f\"Answer: {response.content}\")\n",
    "except Exception as e:\n",
    "    print(f\"Error: {e}\")"
   ]
  }
 ],
 "metadata": {
  "kernelspec": {
   "display_name": "Python 3",
   "language": "python",
   "name": "python3"
  },
  "language_info": {
   "codemirror_mode": {
    "name": "ipython",
    "version": 3
   },
   "file_extension": ".py",
   "mimetype": "text/x-python",
   "name": "python",
   "nbconvert_exporter": "python",
   "pygments_lexer": "ipython3",
   "version": "3.12.7"
  }
 },
 "nbformat": 4,
 "nbformat_minor": 4
}
