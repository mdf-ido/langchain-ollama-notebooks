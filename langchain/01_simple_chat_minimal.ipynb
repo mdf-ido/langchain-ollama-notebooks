{
 "cells": [
  {
   "cell_type": "markdown",
   "id": "a27a5428",
   "metadata": {},
   "source": [
    "# Simple Chat Test - Minimal Version\n",
    "\n",
    "This is a minimal version of the chat notebook to test if the issue is with the complex diagnostics."
   ]
  },
  {
   "cell_type": "code",
   "execution_count": null,
   "id": "16d15f9d",
   "metadata": {},
   "outputs": [],
   "source": [
    "# Import required libraries\n",
    "import sys\n",
    "sys.path.append('..')\n",
    "from config import *"
   ]
  },
  {
   "cell_type": "code",
   "execution_count": null,
   "id": "faac6e52",
   "metadata": {},
   "outputs": [],
   "source": [
    "# Test basic connection\n",
    "from langchain_ollama import ChatOllama\n",
    "\n",
    "print(f\"Connecting to: {ollama_base_url}\")\n",
    "print(f\"Using model: {model_name}\")\n",
    "\n",
    "# Initialize the chat model\n",
    "llm = ChatOllama(\n",
    "    base_url=ollama_base_url,\n",
    "    model=model_name,\n",
    "    temperature=temperature,\n",
    "    request_timeout=request_timeout,\n",
    "    timeout=connection_timeout\n",
    ")\n",
    "\n",
    "print(\"✅ Chat model initialized successfully!\")"
   ]
  },
  {
   "cell_type": "code",
   "execution_count": null,
   "id": "0dcfd522",
   "metadata": {},
   "outputs": [],
   "source": [
    "# Simple test message\n",
    "try:\n",
    "    response = llm.invoke(\"Hello! Can you respond with just 'Hello back!'?\")\n",
    "    print(f\"Response: {response.content}\")\n",
    "except Exception as e:\n",
    "    print(f\"Error: {e}\")\n",
    "    print(\"\\nThis might be due to network connectivity issues.\")\n",
    "    print(\"Check if your Ollama server is running and accessible.\")"
   ]
  }
 ],
 "metadata": {
  "language_info": {
   "name": "python"
  }
 },
 "nbformat": 4,
 "nbformat_minor": 5
}
