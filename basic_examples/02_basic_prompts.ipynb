{
 "cells": [
  {
   "cell_type": "markdown",
   "metadata": {},
   "source": [
    "# Basic Prompts and Prompt Engineering\n\nThis notebook covers the fundamentals of prompt engineering using LangChain and Ollama.\n\n**Topics covered:**\n- Prompt templates\n- Variables and formatting\n- Different prompting techniques\n- Prompt optimization strategies"
   ]
  },
  {
   "cell_type": "code",
   "execution_count": null,
   "metadata": {},
   "outputs": [],
   "source": [
    "# Setup and imports\nimport sys\nsys.path.append('..')\n\nfrom langchain_ollama import ChatOllama\nfrom langchain.prompts import ChatPromptTemplate, PromptTemplate\nfrom langchain.schema import SystemMessage, HumanMessage\nfrom config import config\n\nprint(\"📝 Basic Prompts and Prompt Engineering\")\nprint(f\"Using model: {config.default_model}\")"
   ]
  },
  {
   "cell_type": "code",
   "execution_count": null,
   "metadata": {},
   "outputs": [],
   "source": [
    "# Initialize LLM\nllm = ChatOllama(\n    model=config.default_model,\n    base_url=config.ollama_base_url,\n    temperature=0.7\n)\n\nprint(\"✅ LLM initialized!\")"
   ]
  }
 ],
 "metadata": {
  "kernelspec": {
   "display_name": "Python 3",
   "language": "python",
   "name": "python3"
  },
  "language_info": {
   "codemirror_mode": {
    "name": "ipython",
    "version": 3
   },
   "file_extension": ".py",
   "mimetype": "text/x-python",
   "name": "python",
   "nbconvert_exporter": "python",
   "pygments_lexer": "ipython3",
   "version": "3.8.5"
  }
 },
 "nbformat": 4,
 "nbformat_minor": 4
}